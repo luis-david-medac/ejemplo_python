{
 "cells": [
  {
   "cell_type": "code",
   "execution_count": 1,
   "id": "ed94d36c",
   "metadata": {},
   "outputs": [
    {
     "name": "stdout",
     "output_type": "stream",
     "text": [
      "Introduzca el precio de la cena8.90\n",
      "Introduzca el porcentaje de propina a dejar0.5\n",
      "La propina a dejar es 0.5\n",
      "El monto total es 9.4\n"
     ]
    }
   ],
   "source": [
    "cena = float(input(\"Introduzca el precio de la cena\"))\n",
    "propina = float(input(\"Introduzca el porcentaje de propina a dejar\"))\n",
    "total = cena + propina\n",
    "def calcular_propina(cena,propina):\n",
    "    propina =  cena * propina/100\n",
    "    return propina\n",
    "def calcular_total(cena,propina):\n",
    "    total = cena + propina\n",
    "    return total\n",
    "print(\"La propina a dejar es\", propina)\n",
    "print(\"El monto total es\", total)"
   ]
  },
  {
   "cell_type": "code",
   "execution_count": 66,
   "id": "56402d25",
   "metadata": {},
   "outputs": [
    {
     "name": "stdout",
     "output_type": "stream",
     "text": [
      "Introduzca el precio del producto100\n",
      "Introduzca cuanto se debe abonar por impuestos21\n",
      "Introduzca los cargos de envio10\n",
      "El coste total es de  127.50999999999999\n"
     ]
    }
   ],
   "source": [
    "coste_producto = float(input(\"Introduzca el precio del producto\"))\n",
    "impuestos = float(input(\"Introduzca cuanto se debe abonar por impuestos\"))\n",
    "cargos_envio = float(input(\"Introduzca los cargos de envio\"))\n",
    "total = (coste_producto + (impuestos) + (cargos_envio)) * 0.21 + coste_producto\n",
    "\n",
    "def calcular_impuestos(impuestos,total):\n",
    "    total = total + impuestos\n",
    "    return impuestos\n",
    "def calcular_precio_total(coste_producto,impuestos,cargos_envio):\n",
    "    total = (coste_producto + impuestos + cargos_envio) \n",
    "    return total\n",
    "print(\"El coste total es de \", total)"
   ]
  },
  {
   "cell_type": "code",
   "execution_count": 55,
   "id": "1763dd6b",
   "metadata": {},
   "outputs": [
    {
     "data": {
      "text/plain": [
       "27.509999999999998"
      ]
     },
     "execution_count": 55,
     "metadata": {},
     "output_type": "execute_result"
    }
   ],
   "source": [
    "131 * 0.21"
   ]
  },
  {
   "cell_type": "code",
   "execution_count": 10,
   "id": "74c5eaff",
   "metadata": {},
   "outputs": [
    {
     "name": "stdout",
     "output_type": "stream",
     "text": [
      "La suma de los números es:7\n",
      "La multiplicación de los numero es:10\n",
      "Vamos a sumar 2 numeros.Introduce un número2\n",
      "Vamos a sumar 2 numeros.Introduce un número4\n",
      "La suma de los numero es: 6\n"
     ]
    }
   ],
   "source": [
    "numero1 = 5\n",
    "numero2 = 2\n",
    "resultado = numero1 + numero2\n",
    "print(\"La suma de los números es:\" + str(resultado))\n",
    "print(\"La multiplicación de los numero es:\" + str(numero1 * numero2))\n",
    "numeroa = input(\"Vamos a sumar 2 numeros.Introduce un número\")\n",
    "numerob = input(\"Vamos a sumar 2 numeros.Introduce un número\")\n",
    "print(\"La suma de los numero es: \" + str(int(numeroa) + int(numerob)))"
   ]
  },
  {
   "cell_type": "code",
   "execution_count": 11,
   "id": "ccd3ec6a",
   "metadata": {},
   "outputs": [
    {
     "name": "stdout",
     "output_type": "stream",
     "text": [
      "Vamos a sumar 2 numeros.Introduce un número15\n",
      "Vamos a sumar 2 numeros.Introduce un número10\n",
      "La suma de los numero es: 25\n"
     ]
    }
   ],
   "source": [
    "numeroa = input(\"Vamos a sumar 2 numeros.Introduce un número\")\n",
    "numerob = input(\"Vamos a sumar 2 numeros.Introduce un número\")\n",
    "print(\"La suma de los numero es: \" + str(int(numeroa) + int(numerob)))"
   ]
  },
  {
   "cell_type": "code",
   "execution_count": 14,
   "id": "5b7e34ad",
   "metadata": {},
   "outputs": [
    {
     "name": "stdout",
     "output_type": "stream",
     "text": [
      "El numero 1 es mayor\n"
     ]
    }
   ],
   "source": [
    "numero1 = 10\n",
    "numero2 = 5\n",
    "if numero1 < numero2:\n",
    "    print(\"El numero2 es mayor\")\n",
    "else:\n",
    "    print(\"El numero 1 es mayor\")"
   ]
  },
  {
   "cell_type": "code",
   "execution_count": 17,
   "id": "9d4bd3e3",
   "metadata": {},
   "outputs": [
    {
     "name": "stdout",
     "output_type": "stream",
     "text": [
      "Mi lista es [1, 2, 3, 4, 5]\n",
      "El doble de cada elemento de la lista es:2\n",
      "El doble de cada elemento de la lista es:4\n",
      "El doble de cada elemento de la lista es:6\n",
      "El doble de cada elemento de la lista es:8\n",
      "El doble de cada elemento de la lista es:10\n"
     ]
    }
   ],
   "source": [
    "mi_lista = [1,2,3,4,5,6,7,8,9,10]\n",
    "print(\"Mi lista es \" + str(mi_lista))\n",
    "for elemento in mi_lista:\n",
    "    print(\"El doble de cada elemento de la lista es:\" + str(elemento*2))"
   ]
  },
  {
   "cell_type": "code",
   "execution_count": null,
   "id": "795e2020",
   "metadata": {},
   "outputs": [],
   "source": [
    "mi_lista = [1,2,3,4,5,6,7,8,9,10]\n",
    "while (elemento)"
   ]
  }
 ],
 "metadata": {
  "kernelspec": {
   "display_name": "Python 3 (ipykernel)",
   "language": "python",
   "name": "python3"
  },
  "language_info": {
   "codemirror_mode": {
    "name": "ipython",
    "version": 3
   },
   "file_extension": ".py",
   "mimetype": "text/x-python",
   "name": "python",
   "nbconvert_exporter": "python",
   "pygments_lexer": "ipython3",
   "version": "3.10.9"
  }
 },
 "nbformat": 4,
 "nbformat_minor": 5
}
